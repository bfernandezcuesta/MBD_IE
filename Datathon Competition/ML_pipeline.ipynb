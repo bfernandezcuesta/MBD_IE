{
 "cells": [
  {
   "cell_type": "code",
   "execution_count": 1,
   "metadata": {
    "scrolled": true
   },
   "outputs": [
    {
     "data": {
      "text/html": [
       "<style>.container { width:100% !important; }</style>"
      ],
      "text/plain": [
       "<IPython.core.display.HTML object>"
      ]
     },
     "metadata": {},
     "output_type": "display_data"
    },
    {
     "data": {
      "text/html": [
       "<style>.rendered_html { font-size: 16px; }</style>"
      ],
      "text/plain": [
       "<IPython.core.display.HTML object>"
      ]
     },
     "metadata": {},
     "output_type": "display_data"
    }
   ],
   "source": [
    "import sklearn\n",
    "\n",
    "from IPython.core.display import display, HTML\n",
    "\n",
    "display(HTML(\"<style>.container { width:100% !important; }</style>\")) # Increase cell width\n",
    "display(HTML(\"<style>.rendered_html { font-size: 16px; }</style>\")) # Increase font size\n",
    "\n",
    "# Figures\n",
    "import matplotlib\n",
    "import matplotlib.pyplot as plt\n",
    "%matplotlib inline  \n",
    "\n",
    "import pandas as pd\n",
    "import numpy as np\n",
    "import itertools\n",
    "from collections import defaultdict\n",
    "\n",
    "from sklearn.model_selection import train_test_split\n",
    "from sklearn.metrics import accuracy_score"
   ]
  },
  {
   "cell_type": "code",
   "execution_count": 2,
   "metadata": {},
   "outputs": [],
   "source": [
    "import matplotlib.pyplot as plt"
   ]
  },
  {
   "cell_type": "markdown",
   "metadata": {},
   "source": [
    "## Useful functions"
   ]
  },
  {
   "cell_type": "code",
   "execution_count": 3,
   "metadata": {
    "scrolled": true
   },
   "outputs": [],
   "source": [
    "from sklearn import linear_model\n",
    "from sklearn.model_selection import cross_val_score, cross_val_predict, cross_validate\n",
    "from sklearn.metrics import confusion_matrix, accuracy_score\n",
    "from sklearn.preprocessing import OneHotEncoder\n",
    "\n",
    "def plot_confusion_matrix(cm, classes, normalize=False, title='Confusion matrix',cmap=plt.cm.Blues):\n",
    "    \"\"\"\n",
    "    This function prints and plots the confusion matrix.\n",
    "    Normalization can be applied by setting `normalize=True`.\n",
    "    \"\"\"\n",
    "    plt.imshow(cm, interpolation='nearest', cmap=cmap, aspect='auto')\n",
    "    plt.title(title)\n",
    "    plt.colorbar()\n",
    "    tick_marks = np.arange(len(classes))\n",
    "    \n",
    "    plt.xticks(tick_marks, classes.tolist(), rotation=45)\n",
    "    plt.yticks(tick_marks, classes.tolist())\n",
    "    \n",
    "    thresh = cm.max() / 2.\n",
    "    for i, j in itertools.product(range(cm.shape[0]), range(cm.shape[1])):\n",
    "        plt.text(j, i, cm[i, j],\n",
    "                 horizontalalignment=\"center\",\n",
    "                 verticalalignment='center',\n",
    "                 color=\"white\" if cm[i, j] > thresh else \"black\")\n",
    "\n",
    "    plt.xlim(-0.5, len(classes)-0.5)\n",
    "    plt.ylim(len(classes)-0.5, -0.5)\n",
    "    plt.tight_layout()\n",
    "    plt.ylabel('True label')\n",
    "    plt.xlabel('Predicted label')\n",
    "    \n",
    "def train_model(X,y, model, show_figures=True): \n",
    "    y_pred = cross_val_predict(model, X, y, cv=5)\n",
    "    conf_mat = confusion_matrix(y, y_pred)\n",
    "    score = accuracy_score(y,y_pred)\n",
    "    print(\"Accuracy = {0:.4f}\".format(score))\n",
    "    if show_figures:\n",
    "        plot_confusion_matrix(conf_mat, y.unique())\n",
    "        model.fit(X, y)\n",
    "        get_feature_importance(model, X.columns, n_features=28)\n",
    "    return model, score\n",
    "\n",
    "def get_feature_importance(clf, features, n_features):\n",
    "    feature_importance = abs(clf.coef_[0])\n",
    "    feature_importance = 100.0 * (feature_importance / feature_importance.max())\n",
    "    sorted_idx = np.argsort(feature_importance)[:n_features]\n",
    "    pos = np.arange(sorted_idx.shape[0]) + .5\n",
    "\n",
    "    featfig = plt.figure(figsize=(10,10))\n",
    "    featfig.suptitle(str(n_features) + \" Most important features\")\n",
    "    featax = featfig.add_subplot(1, 1, 1)\n",
    "    featax.barh(pos, feature_importance[sorted_idx], align='center')\n",
    "    featax.set_yticks(pos)\n",
    "    featax.set_xticks([])\n",
    "    featax.set_yticklabels(np.array(features), fontsize=15)\n",
    "    featax.set_xlabel('Relative Feature Importance', fontsize=15)\n",
    "    plt.show()"
   ]
  },
  {
   "cell_type": "markdown",
   "metadata": {},
   "source": [
    "## Reading and preparation"
   ]
  },
  {
   "cell_type": "code",
   "execution_count": 4,
   "metadata": {},
   "outputs": [],
   "source": [
    "training = pd.read_csv(\"final_training.csv\", delimiter=\",\", decimal=\".\")\n",
    "test = pd.read_csv(\"test.csv\", delimiter=\",\", decimal=\".\")"
   ]
  },
  {
   "cell_type": "code",
   "execution_count": 5,
   "metadata": {},
   "outputs": [
    {
     "data": {
      "text/html": [
       "<div>\n",
       "<style scoped>\n",
       "    .dataframe tbody tr th:only-of-type {\n",
       "        vertical-align: middle;\n",
       "    }\n",
       "\n",
       "    .dataframe tbody tr th {\n",
       "        vertical-align: top;\n",
       "    }\n",
       "\n",
       "    .dataframe thead th {\n",
       "        text-align: right;\n",
       "    }\n",
       "</style>\n",
       "<table border=\"1\" class=\"dataframe\">\n",
       "  <thead>\n",
       "    <tr style=\"text-align: right;\">\n",
       "      <th></th>\n",
       "      <th>Unnamed: 0</th>\n",
       "      <th>Id_Cliente</th>\n",
       "      <th>Ano</th>\n",
       "      <th>Curso</th>\n",
       "      <th>Asignatura</th>\n",
       "      <th>TipoMaterial</th>\n",
       "      <th>Lengua</th>\n",
       "      <th>TipoSoporte</th>\n",
       "      <th>Clase</th>\n",
       "      <th>ValorClase</th>\n",
       "      <th>art_id</th>\n",
       "      <th>GrupoEditorialPrevio</th>\n",
       "      <th>Latitud</th>\n",
       "      <th>Longitud</th>\n",
       "      <th>ComunidadAutonoma</th>\n",
       "      <th>Titularidad</th>\n",
       "    </tr>\n",
       "  </thead>\n",
       "  <tbody>\n",
       "    <tr>\n",
       "      <td>0</td>\n",
       "      <td>0</td>\n",
       "      <td>113956</td>\n",
       "      <td>2019</td>\n",
       "      <td>33</td>\n",
       "      <td>48</td>\n",
       "      <td>3</td>\n",
       "      <td>13</td>\n",
       "      <td>1</td>\n",
       "      <td>150.0</td>\n",
       "      <td>22.5150</td>\n",
       "      <td>11395633483131</td>\n",
       "      <td>10.0</td>\n",
       "      <td>42.852859</td>\n",
       "      <td>-2.668525</td>\n",
       "      <td>7</td>\n",
       "      <td>1</td>\n",
       "    </tr>\n",
       "    <tr>\n",
       "      <td>1</td>\n",
       "      <td>1</td>\n",
       "      <td>113956</td>\n",
       "      <td>2019</td>\n",
       "      <td>33</td>\n",
       "      <td>65</td>\n",
       "      <td>1</td>\n",
       "      <td>26</td>\n",
       "      <td>1</td>\n",
       "      <td>90.0</td>\n",
       "      <td>22.1760</td>\n",
       "      <td>11395633651261</td>\n",
       "      <td>90.0</td>\n",
       "      <td>42.852859</td>\n",
       "      <td>-2.668525</td>\n",
       "      <td>7</td>\n",
       "      <td>1</td>\n",
       "    </tr>\n",
       "    <tr>\n",
       "      <td>2</td>\n",
       "      <td>2</td>\n",
       "      <td>113956</td>\n",
       "      <td>2019</td>\n",
       "      <td>32</td>\n",
       "      <td>8</td>\n",
       "      <td>1</td>\n",
       "      <td>26</td>\n",
       "      <td>2</td>\n",
       "      <td>96.0</td>\n",
       "      <td>12.8640</td>\n",
       "      <td>1139563281262</td>\n",
       "      <td>3.0</td>\n",
       "      <td>42.852859</td>\n",
       "      <td>-2.668525</td>\n",
       "      <td>7</td>\n",
       "      <td>1</td>\n",
       "    </tr>\n",
       "    <tr>\n",
       "      <td>3</td>\n",
       "      <td>3</td>\n",
       "      <td>113956</td>\n",
       "      <td>2019</td>\n",
       "      <td>32</td>\n",
       "      <td>60</td>\n",
       "      <td>1</td>\n",
       "      <td>26</td>\n",
       "      <td>2</td>\n",
       "      <td>68.0</td>\n",
       "      <td>9.1188</td>\n",
       "      <td>11395632601262</td>\n",
       "      <td>1.0</td>\n",
       "      <td>42.852859</td>\n",
       "      <td>-2.668525</td>\n",
       "      <td>7</td>\n",
       "      <td>1</td>\n",
       "    </tr>\n",
       "    <tr>\n",
       "      <td>4</td>\n",
       "      <td>4</td>\n",
       "      <td>113956</td>\n",
       "      <td>2019</td>\n",
       "      <td>32</td>\n",
       "      <td>73</td>\n",
       "      <td>1</td>\n",
       "      <td>13</td>\n",
       "      <td>2</td>\n",
       "      <td>53.0</td>\n",
       "      <td>7.1020</td>\n",
       "      <td>11395632731132</td>\n",
       "      <td>90.0</td>\n",
       "      <td>42.852859</td>\n",
       "      <td>-2.668525</td>\n",
       "      <td>7</td>\n",
       "      <td>1</td>\n",
       "    </tr>\n",
       "    <tr>\n",
       "      <td>...</td>\n",
       "      <td>...</td>\n",
       "      <td>...</td>\n",
       "      <td>...</td>\n",
       "      <td>...</td>\n",
       "      <td>...</td>\n",
       "      <td>...</td>\n",
       "      <td>...</td>\n",
       "      <td>...</td>\n",
       "      <td>...</td>\n",
       "      <td>...</td>\n",
       "      <td>...</td>\n",
       "      <td>...</td>\n",
       "      <td>...</td>\n",
       "      <td>...</td>\n",
       "      <td>...</td>\n",
       "      <td>...</td>\n",
       "    </tr>\n",
       "    <tr>\n",
       "      <td>617855</td>\n",
       "      <td>617855</td>\n",
       "      <td>212536</td>\n",
       "      <td>2019</td>\n",
       "      <td>36</td>\n",
       "      <td>48</td>\n",
       "      <td>1</td>\n",
       "      <td>13</td>\n",
       "      <td>1</td>\n",
       "      <td>99.0</td>\n",
       "      <td>46.7181</td>\n",
       "      <td>21253636481131</td>\n",
       "      <td>4.0</td>\n",
       "      <td>41.384132</td>\n",
       "      <td>2.046094</td>\n",
       "      <td>1</td>\n",
       "      <td>1</td>\n",
       "    </tr>\n",
       "    <tr>\n",
       "      <td>617856</td>\n",
       "      <td>617856</td>\n",
       "      <td>212536</td>\n",
       "      <td>2019</td>\n",
       "      <td>36</td>\n",
       "      <td>42</td>\n",
       "      <td>1</td>\n",
       "      <td>13</td>\n",
       "      <td>1</td>\n",
       "      <td>10.0</td>\n",
       "      <td>3.5420</td>\n",
       "      <td>21253636421131</td>\n",
       "      <td>2.0</td>\n",
       "      <td>41.384132</td>\n",
       "      <td>2.046094</td>\n",
       "      <td>1</td>\n",
       "      <td>1</td>\n",
       "    </tr>\n",
       "    <tr>\n",
       "      <td>617857</td>\n",
       "      <td>617857</td>\n",
       "      <td>212536</td>\n",
       "      <td>2019</td>\n",
       "      <td>36</td>\n",
       "      <td>8</td>\n",
       "      <td>1</td>\n",
       "      <td>10</td>\n",
       "      <td>1</td>\n",
       "      <td>40.0</td>\n",
       "      <td>14.1360</td>\n",
       "      <td>2125363681101</td>\n",
       "      <td>16.0</td>\n",
       "      <td>41.384132</td>\n",
       "      <td>2.046094</td>\n",
       "      <td>1</td>\n",
       "      <td>1</td>\n",
       "    </tr>\n",
       "    <tr>\n",
       "      <td>617858</td>\n",
       "      <td>617858</td>\n",
       "      <td>212536</td>\n",
       "      <td>2019</td>\n",
       "      <td>37</td>\n",
       "      <td>48</td>\n",
       "      <td>2</td>\n",
       "      <td>13</td>\n",
       "      <td>1</td>\n",
       "      <td>80.0</td>\n",
       "      <td>8.2720</td>\n",
       "      <td>21253637482131</td>\n",
       "      <td>4.0</td>\n",
       "      <td>41.384132</td>\n",
       "      <td>2.046094</td>\n",
       "      <td>1</td>\n",
       "      <td>1</td>\n",
       "    </tr>\n",
       "    <tr>\n",
       "      <td>617859</td>\n",
       "      <td>617859</td>\n",
       "      <td>212536</td>\n",
       "      <td>2019</td>\n",
       "      <td>37</td>\n",
       "      <td>42</td>\n",
       "      <td>1</td>\n",
       "      <td>13</td>\n",
       "      <td>1</td>\n",
       "      <td>10.0</td>\n",
       "      <td>3.8030</td>\n",
       "      <td>21253637421131</td>\n",
       "      <td>2.0</td>\n",
       "      <td>41.384132</td>\n",
       "      <td>2.046094</td>\n",
       "      <td>1</td>\n",
       "      <td>1</td>\n",
       "    </tr>\n",
       "  </tbody>\n",
       "</table>\n",
       "<p>617860 rows × 16 columns</p>\n",
       "</div>"
      ],
      "text/plain": [
       "        Unnamed: 0  Id_Cliente   Ano  Curso  Asignatura  TipoMaterial  Lengua  \\\n",
       "0                0      113956  2019     33          48             3      13   \n",
       "1                1      113956  2019     33          65             1      26   \n",
       "2                2      113956  2019     32           8             1      26   \n",
       "3                3      113956  2019     32          60             1      26   \n",
       "4                4      113956  2019     32          73             1      13   \n",
       "...            ...         ...   ...    ...         ...           ...     ...   \n",
       "617855      617855      212536  2019     36          48             1      13   \n",
       "617856      617856      212536  2019     36          42             1      13   \n",
       "617857      617857      212536  2019     36           8             1      10   \n",
       "617858      617858      212536  2019     37          48             2      13   \n",
       "617859      617859      212536  2019     37          42             1      13   \n",
       "\n",
       "        TipoSoporte  Clase  ValorClase          art_id  GrupoEditorialPrevio  \\\n",
       "0                 1  150.0     22.5150  11395633483131                  10.0   \n",
       "1                 1   90.0     22.1760  11395633651261                  90.0   \n",
       "2                 2   96.0     12.8640   1139563281262                   3.0   \n",
       "3                 2   68.0      9.1188  11395632601262                   1.0   \n",
       "4                 2   53.0      7.1020  11395632731132                  90.0   \n",
       "...             ...    ...         ...             ...                   ...   \n",
       "617855            1   99.0     46.7181  21253636481131                   4.0   \n",
       "617856            1   10.0      3.5420  21253636421131                   2.0   \n",
       "617857            1   40.0     14.1360   2125363681101                  16.0   \n",
       "617858            1   80.0      8.2720  21253637482131                   4.0   \n",
       "617859            1   10.0      3.8030  21253637421131                   2.0   \n",
       "\n",
       "          Latitud  Longitud  ComunidadAutonoma  Titularidad  \n",
       "0       42.852859 -2.668525                  7            1  \n",
       "1       42.852859 -2.668525                  7            1  \n",
       "2       42.852859 -2.668525                  7            1  \n",
       "3       42.852859 -2.668525                  7            1  \n",
       "4       42.852859 -2.668525                  7            1  \n",
       "...           ...       ...                ...          ...  \n",
       "617855  41.384132  2.046094                  1            1  \n",
       "617856  41.384132  2.046094                  1            1  \n",
       "617857  41.384132  2.046094                  1            1  \n",
       "617858  41.384132  2.046094                  1            1  \n",
       "617859  41.384132  2.046094                  1            1  \n",
       "\n",
       "[617860 rows x 16 columns]"
      ]
     },
     "execution_count": 5,
     "metadata": {},
     "output_type": "execute_result"
    }
   ],
   "source": [
    "test"
   ]
  },
  {
   "cell_type": "code",
   "execution_count": 6,
   "metadata": {},
   "outputs": [],
   "source": [
    "training = training.drop(['Unnamed: 0'],axis=1)\n",
    "training = training.drop(['Ano'],axis=1)\n",
    "training = training.drop(['GrupoEditorialActual'], axis = 1)\n",
    "training = training.drop(['Longitud'], axis = 1)\n",
    "training = training.drop(['Latitud'], axis = 1)\n",
    "test = test.drop(['Unnamed: 0'],axis=1)\n",
    "test = test.drop(['Ano'],axis=1)\n",
    "test = test.drop(['Longitud'], axis = 1)\n",
    "test = test.drop(['Latitud'], axis = 1)"
   ]
  },
  {
   "cell_type": "code",
   "execution_count": 7,
   "metadata": {},
   "outputs": [
    {
     "data": {
      "text/html": [
       "<div>\n",
       "<style scoped>\n",
       "    .dataframe tbody tr th:only-of-type {\n",
       "        vertical-align: middle;\n",
       "    }\n",
       "\n",
       "    .dataframe tbody tr th {\n",
       "        vertical-align: top;\n",
       "    }\n",
       "\n",
       "    .dataframe thead th {\n",
       "        text-align: right;\n",
       "    }\n",
       "</style>\n",
       "<table border=\"1\" class=\"dataframe\">\n",
       "  <thead>\n",
       "    <tr style=\"text-align: right;\">\n",
       "      <th></th>\n",
       "      <th>art_id</th>\n",
       "      <th>Id_Cliente</th>\n",
       "      <th>Curso</th>\n",
       "      <th>Asignatura</th>\n",
       "      <th>TipoMaterial</th>\n",
       "      <th>GrupoEditorialPrevio</th>\n",
       "      <th>Lengua</th>\n",
       "      <th>TipoSoporte</th>\n",
       "      <th>Target</th>\n",
       "      <th>Clase</th>\n",
       "      <th>ValorClase</th>\n",
       "      <th>ComunidadAutonoma</th>\n",
       "      <th>Titularidad</th>\n",
       "    </tr>\n",
       "  </thead>\n",
       "  <tbody>\n",
       "    <tr>\n",
       "      <td>count</td>\n",
       "      <td>7.646280e+05</td>\n",
       "      <td>764628.000000</td>\n",
       "      <td>764628.000000</td>\n",
       "      <td>764628.000000</td>\n",
       "      <td>764628.000000</td>\n",
       "      <td>764628.000000</td>\n",
       "      <td>764628.000000</td>\n",
       "      <td>764628.000000</td>\n",
       "      <td>764628.000000</td>\n",
       "      <td>764628.000000</td>\n",
       "      <td>764628.000000</td>\n",
       "      <td>764628.000000</td>\n",
       "      <td>764628.000000</td>\n",
       "    </tr>\n",
       "    <tr>\n",
       "      <td>mean</td>\n",
       "      <td>2.584881e+13</td>\n",
       "      <td>153829.429379</td>\n",
       "      <td>30.353170</td>\n",
       "      <td>67.919871</td>\n",
       "      <td>1.267135</td>\n",
       "      <td>33.004016</td>\n",
       "      <td>13.663486</td>\n",
       "      <td>1.023880</td>\n",
       "      <td>0.027722</td>\n",
       "      <td>44.966939</td>\n",
       "      <td>975.758634</td>\n",
       "      <td>3.098355</td>\n",
       "      <td>2.450310</td>\n",
       "    </tr>\n",
       "    <tr>\n",
       "      <td>std</td>\n",
       "      <td>3.796110e+13</td>\n",
       "      <td>27145.744317</td>\n",
       "      <td>3.757106</td>\n",
       "      <td>57.337341</td>\n",
       "      <td>0.656809</td>\n",
       "      <td>38.788173</td>\n",
       "      <td>3.731584</td>\n",
       "      <td>0.152674</td>\n",
       "      <td>0.164175</td>\n",
       "      <td>37.085171</td>\n",
       "      <td>943.063562</td>\n",
       "      <td>2.016503</td>\n",
       "      <td>0.795442</td>\n",
       "    </tr>\n",
       "    <tr>\n",
       "      <td>min</td>\n",
       "      <td>1.139563e+12</td>\n",
       "      <td>113956.000000</td>\n",
       "      <td>20.000000</td>\n",
       "      <td>1.000000</td>\n",
       "      <td>1.000000</td>\n",
       "      <td>1.000000</td>\n",
       "      <td>10.000000</td>\n",
       "      <td>1.000000</td>\n",
       "      <td>0.000000</td>\n",
       "      <td>0.000000</td>\n",
       "      <td>0.000000</td>\n",
       "      <td>1.000000</td>\n",
       "      <td>1.000000</td>\n",
       "    </tr>\n",
       "    <tr>\n",
       "      <td>25%</td>\n",
       "      <td>1.320993e+13</td>\n",
       "      <td>132119.000000</td>\n",
       "      <td>27.000000</td>\n",
       "      <td>48.000000</td>\n",
       "      <td>1.000000</td>\n",
       "      <td>3.000000</td>\n",
       "      <td>13.000000</td>\n",
       "      <td>1.000000</td>\n",
       "      <td>0.000000</td>\n",
       "      <td>21.000000</td>\n",
       "      <td>379.800000</td>\n",
       "      <td>1.000000</td>\n",
       "      <td>2.000000</td>\n",
       "    </tr>\n",
       "    <tr>\n",
       "      <td>50%</td>\n",
       "      <td>1.661044e+13</td>\n",
       "      <td>163111.000000</td>\n",
       "      <td>30.000000</td>\n",
       "      <td>54.000000</td>\n",
       "      <td>1.000000</td>\n",
       "      <td>8.000000</td>\n",
       "      <td>13.000000</td>\n",
       "      <td>1.000000</td>\n",
       "      <td>0.000000</td>\n",
       "      <td>36.000000</td>\n",
       "      <td>717.860000</td>\n",
       "      <td>2.000000</td>\n",
       "      <td>3.000000</td>\n",
       "    </tr>\n",
       "    <tr>\n",
       "      <td>75%</td>\n",
       "      <td>1.745914e+13</td>\n",
       "      <td>172936.000000</td>\n",
       "      <td>34.000000</td>\n",
       "      <td>65.000000</td>\n",
       "      <td>1.000000</td>\n",
       "      <td>90.000000</td>\n",
       "      <td>13.000000</td>\n",
       "      <td>1.000000</td>\n",
       "      <td>0.000000</td>\n",
       "      <td>57.000000</td>\n",
       "      <td>1304.920000</td>\n",
       "      <td>5.000000</td>\n",
       "      <td>3.000000</td>\n",
       "    </tr>\n",
       "    <tr>\n",
       "      <td>max</td>\n",
       "      <td>2.118173e+14</td>\n",
       "      <td>211817.000000</td>\n",
       "      <td>37.000000</td>\n",
       "      <td>280.000000</td>\n",
       "      <td>4.000000</td>\n",
       "      <td>90.000000</td>\n",
       "      <td>26.000000</td>\n",
       "      <td>2.000000</td>\n",
       "      <td>1.000000</td>\n",
       "      <td>1540.000000</td>\n",
       "      <td>34617.440000</td>\n",
       "      <td>7.000000</td>\n",
       "      <td>3.000000</td>\n",
       "    </tr>\n",
       "  </tbody>\n",
       "</table>\n",
       "</div>"
      ],
      "text/plain": [
       "             art_id     Id_Cliente          Curso     Asignatura  \\\n",
       "count  7.646280e+05  764628.000000  764628.000000  764628.000000   \n",
       "mean   2.584881e+13  153829.429379      30.353170      67.919871   \n",
       "std    3.796110e+13   27145.744317       3.757106      57.337341   \n",
       "min    1.139563e+12  113956.000000      20.000000       1.000000   \n",
       "25%    1.320993e+13  132119.000000      27.000000      48.000000   \n",
       "50%    1.661044e+13  163111.000000      30.000000      54.000000   \n",
       "75%    1.745914e+13  172936.000000      34.000000      65.000000   \n",
       "max    2.118173e+14  211817.000000      37.000000     280.000000   \n",
       "\n",
       "        TipoMaterial  GrupoEditorialPrevio         Lengua    TipoSoporte  \\\n",
       "count  764628.000000         764628.000000  764628.000000  764628.000000   \n",
       "mean        1.267135             33.004016      13.663486       1.023880   \n",
       "std         0.656809             38.788173       3.731584       0.152674   \n",
       "min         1.000000              1.000000      10.000000       1.000000   \n",
       "25%         1.000000              3.000000      13.000000       1.000000   \n",
       "50%         1.000000              8.000000      13.000000       1.000000   \n",
       "75%         1.000000             90.000000      13.000000       1.000000   \n",
       "max         4.000000             90.000000      26.000000       2.000000   \n",
       "\n",
       "              Target          Clase     ValorClase  ComunidadAutonoma  \\\n",
       "count  764628.000000  764628.000000  764628.000000      764628.000000   \n",
       "mean        0.027722      44.966939     975.758634           3.098355   \n",
       "std         0.164175      37.085171     943.063562           2.016503   \n",
       "min         0.000000       0.000000       0.000000           1.000000   \n",
       "25%         0.000000      21.000000     379.800000           1.000000   \n",
       "50%         0.000000      36.000000     717.860000           2.000000   \n",
       "75%         0.000000      57.000000    1304.920000           5.000000   \n",
       "max         1.000000    1540.000000   34617.440000           7.000000   \n",
       "\n",
       "         Titularidad  \n",
       "count  764628.000000  \n",
       "mean        2.450310  \n",
       "std         0.795442  \n",
       "min         1.000000  \n",
       "25%         2.000000  \n",
       "50%         3.000000  \n",
       "75%         3.000000  \n",
       "max         3.000000  "
      ]
     },
     "execution_count": 7,
     "metadata": {},
     "output_type": "execute_result"
    }
   ],
   "source": [
    "pd.options.display.max_columns = training.shape[1] # It prints the info in all the columns\n",
    "\n",
    "training.describe()"
   ]
  },
  {
   "cell_type": "markdown",
   "metadata": {},
   "source": [
    "## Data cleaning"
   ]
  },
  {
   "cell_type": "markdown",
   "metadata": {},
   "source": [
    "### Re-coding datatypes for some Variables"
   ]
  },
  {
   "cell_type": "code",
   "execution_count": 8,
   "metadata": {},
   "outputs": [
    {
     "data": {
      "text/plain": [
       "art_id                    int64\n",
       "Id_Cliente                int64\n",
       "Curso                     int64\n",
       "Asignatura                int64\n",
       "TipoMaterial              int64\n",
       "GrupoEditorialPrevio    float64\n",
       "Lengua                    int64\n",
       "TipoSoporte               int64\n",
       "Target                  float64\n",
       "Clase                   float64\n",
       "ValorClase              float64\n",
       "ComunidadAutonoma         int64\n",
       "Titularidad               int64\n",
       "dtype: object"
      ]
     },
     "execution_count": 8,
     "metadata": {},
     "output_type": "execute_result"
    }
   ],
   "source": [
    "training.dtypes"
   ]
  },
  {
   "cell_type": "code",
   "execution_count": 9,
   "metadata": {
    "scrolled": true
   },
   "outputs": [
    {
     "data": {
      "text/plain": [
       "art_id                     int64\n",
       "Id_Cliente              category\n",
       "Curso                   category\n",
       "Asignatura              category\n",
       "TipoMaterial            category\n",
       "GrupoEditorialPrevio    category\n",
       "Lengua                  category\n",
       "TipoSoporte             category\n",
       "Target                   float64\n",
       "Clase                    float64\n",
       "ValorClase               float64\n",
       "ComunidadAutonoma       category\n",
       "Titularidad             category\n",
       "dtype: object"
      ]
     },
     "execution_count": 9,
     "metadata": {},
     "output_type": "execute_result"
    }
   ],
   "source": [
    "# check data types\n",
    "# if object -> as category\n",
    "categorical_columns = ['Curso', 'Asignatura','TipoMaterial', 'Lengua', 'ComunidadAutonoma', 'Titularidad', 'GrupoEditorialPrevio', 'Id_Cliente','TipoSoporte']\n",
    "\n",
    "training[categorical_columns] = training[categorical_columns].astype(\"category\")\n",
    "training.dtypes"
   ]
  },
  {
   "cell_type": "code",
   "execution_count": 10,
   "metadata": {
    "scrolled": true
   },
   "outputs": [
    {
     "data": {
      "text/plain": [
       "Id_Cliente              category\n",
       "Curso                   category\n",
       "Asignatura              category\n",
       "TipoMaterial            category\n",
       "Lengua                  category\n",
       "TipoSoporte             category\n",
       "Clase                    float64\n",
       "ValorClase               float64\n",
       "art_id                     int64\n",
       "GrupoEditorialPrevio    category\n",
       "ComunidadAutonoma       category\n",
       "Titularidad             category\n",
       "dtype: object"
      ]
     },
     "execution_count": 10,
     "metadata": {},
     "output_type": "execute_result"
    }
   ],
   "source": [
    "test[categorical_columns] = test[categorical_columns].astype(\"category\")\n",
    "test.dtypes"
   ]
  },
  {
   "cell_type": "code",
   "execution_count": 11,
   "metadata": {},
   "outputs": [],
   "source": [
    "numerical_cols = training.columns[training.dtypes!='category'].tolist()"
   ]
  },
  {
   "cell_type": "markdown",
   "metadata": {},
   "source": [
    "## Splitting  +  Balancing the data based on Target"
   ]
  },
  {
   "cell_type": "code",
   "execution_count": 12,
   "metadata": {},
   "outputs": [],
   "source": [
    "# Class count\n",
    "count_class_0, count_class_1 = training.Target.value_counts()\n",
    "\n",
    "# Divide by class\n",
    "df_class_0 = training[training['Target'] == 0.0]\n",
    "df_class_1 = training[training['Target'] == 1.0]"
   ]
  },
  {
   "cell_type": "code",
   "execution_count": 13,
   "metadata": {},
   "outputs": [
    {
     "name": "stdout",
     "output_type": "stream",
     "text": [
      "Random under-sampling:\n",
      "1.0    21197\n",
      "0.0    21197\n",
      "Name: Target, dtype: int64\n"
     ]
    },
    {
     "data": {
      "image/png": "[encoded data removed]",
      "text/plain": [
       "<Figure size 432x288 with 1 Axes>"
      ]
     },
     "metadata": {
      "needs_background": "light"
     },
     "output_type": "display_data"
    }
   ],
   "source": [
    "df_class_0_under = df_class_0.sample(count_class_1)\n",
    "df_test_under = pd.concat([df_class_0_under, df_class_1], axis=0)\n",
    "\n",
    "print('Random under-sampling:')\n",
    "print(df_test_under.Target.value_counts())\n",
    "\n",
    "df_test_under.Target.value_counts().plot(kind='bar', title='Count (target)');"
   ]
  },
  {
   "cell_type": "code",
   "execution_count": 14,
   "metadata": {},
   "outputs": [],
   "source": [
    "bal_training = df_class_0_under.append(df_class_1)"
   ]
  },
  {
   "cell_type": "code",
   "execution_count": 15,
   "metadata": {},
   "outputs": [],
   "source": [
    "from sklearn.model_selection import train_test_split\n",
    "\n",
    "X = bal_training.drop(columns=(['art_id','Target']))\n",
    "y = bal_training['Target']\n",
    "\n",
    "X_train, X_test, y_train, y_test = train_test_split(X, y, test_size=0.33, random_state=42)"
   ]
  },
  {
   "cell_type": "markdown",
   "metadata": {},
   "source": [
    "## Baseline model"
   ]
  },
  {
   "cell_type": "code",
   "execution_count": 16,
   "metadata": {},
   "outputs": [
    {
     "name": "stdout",
     "output_type": "stream",
     "text": [
      "Accuracy = 0.6408\n"
     ]
    },
    {
     "data": {
      "image/png": "[encoded data removed]",
      "text/plain": [
       "<Figure size 432x288 with 2 Axes>"
      ]
     },
     "metadata": {
      "needs_background": "light"
     },
     "output_type": "display_data"
    },
    {
     "data": {
      "image/png": "[encoded data removed]",
      "text/plain": [
       "<Figure size 720x720 with 1 Axes>"
      ]
     },
     "metadata": {
      "needs_background": "light"
     },
     "output_type": "display_data"
    }
   ],
   "source": [
    "baseline_model, score = train_model(X, y, linear_model.LogisticRegression(max_iter=10000, penalty='none', solver = 'lbfgs'))"
   ]
  },
  {
   "cell_type": "code",
   "execution_count": 17,
   "metadata": {},
   "outputs": [
    {
     "data": {
      "text/html": [
       "<div>\n",
       "<style scoped>\n",
       "    .dataframe tbody tr th:only-of-type {\n",
       "        vertical-align: middle;\n",
       "    }\n",
       "\n",
       "    .dataframe tbody tr th {\n",
       "        vertical-align: top;\n",
       "    }\n",
       "\n",
       "    .dataframe thead th {\n",
       "        text-align: right;\n",
       "    }\n",
       "</style>\n",
       "<table border=\"1\" class=\"dataframe\">\n",
       "  <thead>\n",
       "    <tr style=\"text-align: right;\">\n",
       "      <th></th>\n",
       "      <th>Approach</th>\n",
       "      <th>Accuracy</th>\n",
       "    </tr>\n",
       "  </thead>\n",
       "  <tbody>\n",
       "    <tr>\n",
       "      <td>0</td>\n",
       "      <td>LR Baseline</td>\n",
       "      <td>0.640751</td>\n",
       "    </tr>\n",
       "  </tbody>\n",
       "</table>\n",
       "</div>"
      ],
      "text/plain": [
       "      Approach  Accuracy\n",
       "0  LR Baseline  0.640751"
      ]
     },
     "execution_count": 17,
     "metadata": {},
     "output_type": "execute_result"
    }
   ],
   "source": [
    "results_df = pd.DataFrame(columns=['Approach', 'Accuracy'])\n",
    "results_df.loc[len(results_df)] = ['LR Baseline', score]\n",
    "results_df"
   ]
  },
  {
   "cell_type": "markdown",
   "metadata": {},
   "source": [
    "#### Random Forest"
   ]
  },
  {
   "cell_type": "code",
   "execution_count": 18,
   "metadata": {
    "scrolled": false
   },
   "outputs": [
    {
     "name": "stdout",
     "output_type": "stream",
     "text": [
      "[[5498 1506]\n",
      " [ 768 6219]]\n",
      "              precision    recall  f1-score   support\n",
      "\n",
      "         0.0       0.88      0.78      0.83      7004\n",
      "         1.0       0.81      0.89      0.85      6987\n",
      "\n",
      "    accuracy                           0.84     13991\n",
      "   macro avg       0.84      0.84      0.84     13991\n",
      "weighted avg       0.84      0.84      0.84     13991\n",
      "\n"
     ]
    }
   ],
   "source": [
    "from sklearn.metrics import classification_report\n",
    "from sklearn.metrics import confusion_matrix\n",
    "from sklearn.ensemble import RandomForestClassifier\n",
    "\n",
    "\n",
    "model = RandomForestClassifier(random_state= 101).fit(X_train,y_train)\n",
    "predictionforest = model.predict(X_test)\n",
    "print(confusion_matrix(y_test,predictionforest))\n",
    "print(classification_report(y_test,predictionforest))\n",
    "acc1 = accuracy_score(y_test,predictionforest)"
   ]
  },
  {
   "cell_type": "code",
   "execution_count": 19,
   "metadata": {},
   "outputs": [
    {
     "data": {
      "text/plain": [
       "0.8374669430348081"
      ]
     },
     "execution_count": 19,
     "metadata": {},
     "output_type": "execute_result"
    }
   ],
   "source": [
    "acc1 = accuracy_score(y_test,predictionforest)\n",
    "acc1"
   ]
  },
  {
   "cell_type": "markdown",
   "metadata": {},
   "source": [
    "## Outliers"
   ]
  },
  {
   "cell_type": "code",
   "execution_count": 20,
   "metadata": {},
   "outputs": [
    {
     "data": {
      "text/plain": [
       "<matplotlib.axes._subplots.AxesSubplot at 0x1a28deb450>"
      ]
     },
     "execution_count": 20,
     "metadata": {},
     "output_type": "execute_result"
    },
    {
     "data": {
      "image/png": "[encoded data removed]",
      "text/plain": [
       "<Figure size 720x720 with 1 Axes>"
      ]
     },
     "metadata": {
      "needs_background": "light"
     },
     "output_type": "display_data"
    },
    {
     "data": {
      "image/png": "[encoded data removed]",
      "text/plain": [
       "<Figure size 720x720 with 1 Axes>"
      ]
     },
     "metadata": {
      "needs_background": "light"
     },
     "output_type": "display_data"
    }
   ],
   "source": [
    "plt.figure(figsize=(10,10))\n",
    "training.boxplot(['Clase'], grid=False, fontsize=15)\n",
    "\n",
    "plt.figure(figsize=(10,10))\n",
    "training.boxplot(['ValorClase'], grid=False, fontsize=15)\n"
   ]
  },
  {
   "cell_type": "code",
   "execution_count": 21,
   "metadata": {},
   "outputs": [],
   "source": [
    "def remove_outlier(df_in, col_name):\n",
    "    q1 = df_in[col_name].quantile(0.25)\n",
    "    q3 = df_in[col_name].quantile(0.75)\n",
    "    iqr = q3-q1 #Interquartile range\n",
    "    fence_low  = q1-1.5*iqr\n",
    "    fence_high = q3+1.5*iqr\n",
    "    df_out = df_in.loc[(df_in[col_name] > fence_low) & (df_in[col_name] < fence_high)]\n",
    "    print(\"{} outliers removed\".format(len(df_in)-len(df_out)))\n",
    "    return df_out"
   ]
  },
  {
   "cell_type": "code",
   "execution_count": 22,
   "metadata": {},
   "outputs": [
    {
     "name": "stdout",
     "output_type": "stream",
     "text": [
      "41332 outliers removed\n",
      "23208 outliers removed\n"
     ]
    }
   ],
   "source": [
    "training = remove_outlier(training,'Clase')\n",
    "\n",
    "training = remove_outlier(training,'ValorClase')"
   ]
  },
  {
   "cell_type": "code",
   "execution_count": 23,
   "metadata": {},
   "outputs": [
    {
     "data": {
      "text/plain": [
       "<matplotlib.axes._subplots.AxesSubplot at 0x1a18316d10>"
      ]
     },
     "execution_count": 23,
     "metadata": {},
     "output_type": "execute_result"
    },
    {
     "data": {
      "image/png": "[encoded data removed]",
      "text/plain": [
       "<Figure size 720x720 with 1 Axes>"
      ]
     },
     "metadata": {
      "needs_background": "light"
     },
     "output_type": "display_data"
    }
   ],
   "source": [
    "plt.figure(figsize=(10,10))\n",
    "training.boxplot(['Clase'], grid=False, fontsize=15)"
   ]
  },
  {
   "cell_type": "markdown",
   "metadata": {},
   "source": [
    "### Baseline model without outliers"
   ]
  },
  {
   "cell_type": "code",
   "execution_count": 24,
   "metadata": {},
   "outputs": [
    {
     "name": "stdout",
     "output_type": "stream",
     "text": [
      "[[5498 1506]\n",
      " [ 768 6219]]\n",
      "              precision    recall  f1-score   support\n",
      "\n",
      "         0.0       0.88      0.78      0.83      7004\n",
      "         1.0       0.81      0.89      0.85      6987\n",
      "\n",
      "    accuracy                           0.84     13991\n",
      "   macro avg       0.84      0.84      0.84     13991\n",
      "weighted avg       0.84      0.84      0.84     13991\n",
      "\n"
     ]
    }
   ],
   "source": [
    "from sklearn.metrics import classification_report\n",
    "from sklearn.metrics import confusion_matrix\n",
    "from sklearn.ensemble import RandomForestClassifier\n",
    "\n",
    "\n",
    "model = RandomForestClassifier(random_state= 101).fit(X_train,y_train)\n",
    "predictionforest = model.predict(X_test)\n",
    "print(confusion_matrix(y_test,predictionforest))\n",
    "print(classification_report(y_test,predictionforest))\n",
    "acc1 = accuracy_score(y_test,predictionforest)"
   ]
  },
  {
   "cell_type": "code",
   "execution_count": 25,
   "metadata": {},
   "outputs": [
    {
     "data": {
      "text/plain": [
       "0.8374669430348081"
      ]
     },
     "execution_count": 25,
     "metadata": {},
     "output_type": "execute_result"
    }
   ],
   "source": [
    "acc1"
   ]
  },
  {
   "cell_type": "markdown",
   "metadata": {},
   "source": [
    "### Feature engineering"
   ]
  },
  {
   "cell_type": "markdown",
   "metadata": {},
   "source": [
    "### Feature creation"
   ]
  },
  {
   "cell_type": "markdown",
   "metadata": {},
   "source": [
    "Creating a new feature that is a Ratio of Class Value / Class Size:"
   ]
  },
  {
   "cell_type": "code",
   "execution_count": 27,
   "metadata": {},
   "outputs": [],
   "source": [
    "def unit_price(dataframe):\n",
    "    unit_price = []\n",
    "    unit_price = dataframe.ValorClase/dataframe.Clase\n",
    "    unit_price = pd.DataFrame(unit_price, columns = ['unit_price'])\n",
    "    dataframe = pd.concat([dataframe.reset_index(drop=True), unit_price.reset_index(drop=True)], axis=1)\n",
    "    return dataframe"
   ]
  },
  {
   "cell_type": "code",
   "execution_count": 28,
   "metadata": {},
   "outputs": [],
   "source": [
    "bal_training = unit_price(bal_training)\n",
    "test = unit_price(test)"
   ]
  },
  {
   "cell_type": "code",
   "execution_count": 29,
   "metadata": {},
   "outputs": [],
   "source": [
    "bal_training = bal_training.drop(['Clase', 'ValorClase'], axis = 1)\n",
    "test = test.drop(['Clase', 'ValorClase'], axis = 1)"
   ]
  },
  {
   "cell_type": "code",
   "execution_count": 30,
   "metadata": {},
   "outputs": [],
   "source": [
    "bal_training = bal_training.dropna(how='any',axis=0)\n",
    "test = test.dropna(how='any',axis=0)"
   ]
  },
  {
   "cell_type": "code",
   "execution_count": 31,
   "metadata": {},
   "outputs": [
    {
     "data": {
      "text/plain": [
       "art_id                  0\n",
       "Id_Cliente              0\n",
       "Curso                   0\n",
       "Asignatura              0\n",
       "TipoMaterial            0\n",
       "GrupoEditorialPrevio    0\n",
       "Lengua                  0\n",
       "TipoSoporte             0\n",
       "Target                  0\n",
       "ComunidadAutonoma       0\n",
       "Titularidad             0\n",
       "unit_price              0\n",
       "dtype: int64"
      ]
     },
     "execution_count": 31,
     "metadata": {},
     "output_type": "execute_result"
    }
   ],
   "source": [
    "bal_training.isna().sum()"
   ]
  },
  {
   "cell_type": "code",
   "execution_count": 32,
   "metadata": {},
   "outputs": [
    {
     "data": {
      "text/plain": [
       "Id_Cliente              0\n",
       "Curso                   0\n",
       "Asignatura              0\n",
       "TipoMaterial            0\n",
       "Lengua                  0\n",
       "TipoSoporte             0\n",
       "art_id                  0\n",
       "GrupoEditorialPrevio    0\n",
       "ComunidadAutonoma       0\n",
       "Titularidad             0\n",
       "unit_price              0\n",
       "dtype: int64"
      ]
     },
     "execution_count": 32,
     "metadata": {},
     "output_type": "execute_result"
    }
   ],
   "source": [
    "test.isna().sum()"
   ]
  },
  {
   "cell_type": "markdown",
   "metadata": {},
   "source": [
    "#### Redefining X and y"
   ]
  },
  {
   "cell_type": "code",
   "execution_count": 33,
   "metadata": {},
   "outputs": [],
   "source": [
    "from sklearn.model_selection import train_test_split\n",
    "\n",
    "X = bal_training.drop(columns=(['art_id','Target']))\n",
    "y = bal_training['Target']\n",
    "\n",
    "X_train, X_test, y_train, y_test = train_test_split(X, y, test_size=0.33, random_state=42)"
   ]
  },
  {
   "cell_type": "markdown",
   "metadata": {},
   "source": [
    "#### Re-run the model with the new feature"
   ]
  },
  {
   "cell_type": "code",
   "execution_count": 34,
   "metadata": {},
   "outputs": [
    {
     "name": "stdout",
     "output_type": "stream",
     "text": [
      "[[5422 1573]\n",
      " [1032 5943]]\n",
      "              precision    recall  f1-score   support\n",
      "\n",
      "         0.0       0.84      0.78      0.81      6995\n",
      "         1.0       0.79      0.85      0.82      6975\n",
      "\n",
      "    accuracy                           0.81     13970\n",
      "   macro avg       0.82      0.81      0.81     13970\n",
      "weighted avg       0.82      0.81      0.81     13970\n",
      "\n"
     ]
    }
   ],
   "source": [
    "from sklearn.metrics import classification_report\n",
    "from sklearn.metrics import confusion_matrix\n",
    "from sklearn.ensemble import RandomForestClassifier\n",
    "\n",
    "\n",
    "model = RandomForestClassifier(random_state= 101).fit(X_train,y_train)\n",
    "predictionforest = model.predict(X_test)\n",
    "print(confusion_matrix(y_test,predictionforest))\n",
    "print(classification_report(y_test,predictionforest))\n",
    "acc1 = accuracy_score(y_test,predictionforest)"
   ]
  },
  {
   "cell_type": "code",
   "execution_count": 35,
   "metadata": {},
   "outputs": [
    {
     "data": {
      "text/plain": [
       "0.813528990694345"
      ]
     },
     "execution_count": 35,
     "metadata": {},
     "output_type": "execute_result"
    }
   ],
   "source": [
    "acc1"
   ]
  },
  {
   "cell_type": "markdown",
   "metadata": {},
   "source": [
    "### Cross Validation"
   ]
  },
  {
   "cell_type": "code",
   "execution_count": 36,
   "metadata": {
    "scrolled": true
   },
   "outputs": [
    {
     "name": "stdout",
     "output_type": "stream",
     "text": [
      "Fitting 5 folds for each of 15 candidates, totalling 75 fits\n"
     ]
    },
    {
     "name": "stderr",
     "output_type": "stream",
     "text": [
      "[Parallel(n_jobs=1)]: Using backend SequentialBackend with 1 concurrent workers.\n",
      "[Parallel(n_jobs=1)]: Done  75 out of  75 | elapsed:  1.3min finished\n"
     ]
    },
    {
     "data": {
      "text/plain": [
       "GridSearchCV(cv=5, error_score=nan,\n",
       "             estimator=RandomForestClassifier(bootstrap=True, ccp_alpha=0.0,\n",
       "                                              class_weight=None,\n",
       "                                              criterion='gini', max_depth=None,\n",
       "                                              max_features='auto',\n",
       "                                              max_leaf_nodes=None,\n",
       "                                              max_samples=None,\n",
       "                                              min_impurity_decrease=0.0,\n",
       "                                              min_impurity_split=None,\n",
       "                                              min_samples_leaf=1,\n",
       "                                              min_samples_split=2,\n",
       "                                              min_weight_fraction_leaf=0.0,\n",
       "                                              n_estimators=100, n_jobs=None,\n",
       "                                              oob_score=False, random_state=101,\n",
       "                                              verbose=0, warm_start=False),\n",
       "             iid='deprecated', n_jobs=1, param_grid={'max_depth': range(1, 16)},\n",
       "             pre_dispatch='2*n_jobs', refit=True, return_train_score=False,\n",
       "             scoring='accuracy', verbose=1)"
      ]
     },
     "execution_count": 36,
     "metadata": {},
     "output_type": "execute_result"
    }
   ],
   "source": [
    "from sklearn.model_selection import GridSearchCV\n",
    "param_grid = {'max_depth': range(1,16)}\n",
    "\n",
    "model_pruned_cv = GridSearchCV(model, \n",
    "                   param_grid,\n",
    "                   scoring='accuracy',\n",
    "                   cv=5 , n_jobs=1, verbose=1)\n",
    "\n",
    "model_pruned_cv.fit(X_train,y_train)\n"
   ]
  },
  {
   "cell_type": "code",
   "execution_count": 37,
   "metadata": {},
   "outputs": [
    {
     "name": "stdout",
     "output_type": "stream",
     "text": [
      "[[5098 1897]\n",
      " [ 646 6329]]\n",
      "              precision    recall  f1-score   support\n",
      "\n",
      "         0.0       0.89      0.73      0.80      6995\n",
      "         1.0       0.77      0.91      0.83      6975\n",
      "\n",
      "    accuracy                           0.82     13970\n",
      "   macro avg       0.83      0.82      0.82     13970\n",
      "weighted avg       0.83      0.82      0.82     13970\n",
      "\n"
     ]
    }
   ],
   "source": [
    "predictionforest = model_pruned_cv.predict(X_test)\n",
    "print(confusion_matrix(y_test,predictionforest))\n",
    "print(classification_report(y_test,predictionforest))\n",
    "acc1 = accuracy_score(y_test,predictionforest)"
   ]
  },
  {
   "cell_type": "markdown",
   "metadata": {},
   "source": [
    "#### Running the Final model over all the Training Data"
   ]
  },
  {
   "cell_type": "code",
   "execution_count": 39,
   "metadata": {},
   "outputs": [],
   "source": [
    "model = RandomForestClassifier(random_state= 101).fit(X ,y)\n",
    "predictionforest = model.predict(test.drop([\"art_id\"], axis = 1))\n"
   ]
  },
  {
   "cell_type": "markdown",
   "metadata": {},
   "source": [
    "### Predictions:"
   ]
  },
  {
   "cell_type": "code",
   "execution_count": 40,
   "metadata": {},
   "outputs": [],
   "source": [
    "predictions = pd.DataFrame({'id':test['art_id'], 'Target':predictionforest})\n",
    "predictions.to_csv(\"predictions.csv\", index=False)"
   ]
  },
  {
   "cell_type": "code",
   "execution_count": null,
   "metadata": {},
   "outputs": [],
   "source": []
  }
 ],
 "metadata": {
  "kernelspec": {
   "display_name": "Python 3",
   "language": "python",
   "name": "python3"
  },
  "language_info": {
   "codemirror_mode": {
    "name": "ipython",
    "version": 3
   },
   "file_extension": ".py",
   "mimetype": "text/x-python",
   "name": "python",
   "nbconvert_exporter": "python",
   "pygments_lexer": "ipython3",
   "version": "3.7.4"
  }
 },
 "nbformat": 4,
 "nbformat_minor": 2
}
